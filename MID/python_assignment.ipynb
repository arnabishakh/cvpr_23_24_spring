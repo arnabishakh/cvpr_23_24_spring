{
  "nbformat": 4,
  "nbformat_minor": 0,
  "metadata": {
    "colab": {
      "provenance": []
    },
    "kernelspec": {
      "name": "python3",
      "display_name": "Python 3"
    },
    "language_info": {
      "name": "python"
    }
  },
  "cells": [
    {
      "cell_type": "code",
      "execution_count": 15,
      "metadata": {
        "colab": {
          "base_uri": "https://localhost:8080/"
        },
        "id": "MbunVAR30Hb3",
        "outputId": "5493aa2d-6e80-4c7c-dcc4-7b53971f6a46"
      },
      "outputs": [
        {
          "output_type": "stream",
          "name": "stdout",
          "text": [
            "Sum of all elements: 440\n"
          ]
        }
      ],
      "source": [
        "#list operations\n",
        "#Create a list of integers containing numbers from 1 to 10.\n",
        "num = list(range(1, 11))\n",
        "#Append the square of each number to the list.\n",
        "sq = [i ** 2 for i in num]\n",
        "num.extend(sq)\n",
        "#Find and print the sum of all elements in the list.\n",
        "all_sum = sum(num)\n",
        "print(f\"Sum of all elements: {all_sum}\")"
      ]
    },
    {
      "cell_type": "code",
      "source": [
        "#tuple operation\n",
        "#Create a tuple containing the first five even numbers.\n",
        "x = (2, 4, 6, 8, 10)\n",
        "#Find and print the product of all elements in the tuple.\n",
        "p = 1\n",
        "for num in x:\n",
        "    p *= num\n",
        "print(f\"Total Product: {p}\")"
      ],
      "metadata": {
        "colab": {
          "base_uri": "https://localhost:8080/"
        },
        "id": "XfHtH7hb1dH4",
        "outputId": "c05616f6-9677-4fa0-cb2a-79f2cdf50e73"
      },
      "execution_count": 16,
      "outputs": [
        {
          "output_type": "stream",
          "name": "stdout",
          "text": [
            "Total Product: 3840\n"
          ]
        }
      ]
    },
    {
      "cell_type": "code",
      "source": [
        "#set operation\n",
        "#Create two sets of odd numbers between 1 to 10.\n",
        "x1 = {1, 3, 7}\n",
        "x2 = {3, 9, 11}\n",
        "#Find and print the union of the two sets.\n",
        "union = x1.union(x2)\n",
        "print(f\"Union: {union}\")\n",
        "#Find and print the intersection of the two sets.\n",
        "inter = x1.intersection(x2)\n",
        "print(f\"Intersection: {inter}\")"
      ],
      "metadata": {
        "colab": {
          "base_uri": "https://localhost:8080/"
        },
        "id": "rdPXrif63g5Q",
        "outputId": "3e4d69c0-c7ff-4a83-e9ba-efb1d6446d84"
      },
      "execution_count": 17,
      "outputs": [
        {
          "output_type": "stream",
          "name": "stdout",
          "text": [
            "Union: {1, 3, 7, 9, 11}\n",
            "Intersection: {3}\n"
          ]
        }
      ]
    },
    {
      "cell_type": "code",
      "source": [
        "#dictionary operation\n",
        "#Create a dictionary where keys are the first five lowercase alphabets and values are their respective ASCII values.\n",
        "x = 'abcde'\n",
        "y = {char: ord(char) for char in x}\n",
        "#Print the dictionary.\n",
        "print(\"ascii values:\",y)"
      ],
      "metadata": {
        "colab": {
          "base_uri": "https://localhost:8080/"
        },
        "id": "evoT1Y4w8C8r",
        "outputId": "f8876c61-7fda-41d5-a183-f249483e35e4"
      },
      "execution_count": 18,
      "outputs": [
        {
          "output_type": "stream",
          "name": "stdout",
          "text": [
            "ascii values: {'a': 97, 'b': 98, 'c': 99, 'd': 100, 'e': 101}\n"
          ]
        }
      ]
    },
    {
      "cell_type": "code",
      "source": [
        "# functional programming\n",
        "#Define a function square(x) that returns the square of x.\n",
        "def sq(x):\n",
        "    return x ** 2\n",
        "y = list(range(1, 11))\n",
        "#Use the map function to apply the square function to each element in a list of integers from 1 to 10 and print the result.\n",
        "sq_y = map(sq, y)\n",
        "count=0\n",
        "for i in sq_y:\n",
        "  count +=1\n",
        "  print(\"Squared value for \",count,\"is \",i)"
      ],
      "metadata": {
        "colab": {
          "base_uri": "https://localhost:8080/"
        },
        "id": "WMmpvwsq4wut",
        "outputId": "eb00b0f8-6c9c-48a7-bc30-105a7825ce59"
      },
      "execution_count": 19,
      "outputs": [
        {
          "output_type": "stream",
          "name": "stdout",
          "text": [
            "Squared value for  1 is  1\n",
            "Squared value for  2 is  4\n",
            "Squared value for  3 is  9\n",
            "Squared value for  4 is  16\n",
            "Squared value for  5 is  25\n",
            "Squared value for  6 is  36\n",
            "Squared value for  7 is  49\n",
            "Squared value for  8 is  64\n",
            "Squared value for  9 is  81\n",
            "Squared value for  10 is  100\n"
          ]
        }
      ]
    }
  ]
}